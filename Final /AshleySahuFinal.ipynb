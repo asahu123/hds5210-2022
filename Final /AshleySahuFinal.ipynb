{
 "cells": [
  {
   "cell_type": "markdown",
   "metadata": {},
   "source": [
    "## FINAL: For my final, I have decided to analyze COVID-19 Cases in the U.S. through two different data formats which are a CSV file and an Excel file. "
   ]
  },
  {
   "cell_type": "markdown",
   "metadata": {},
   "source": [
    "For the first step, I will read the data and convert a csv file to excel"
   ]
  },
  {
   "cell_type": "code",
   "execution_count": 83,
   "metadata": {},
   "outputs": [],
   "source": [
    "#Reading the files\n",
    "import pandas as pd\n",
    "import matplotlib.pyplot as plt\n",
    "state_data = pd.read_csv('StateCases.csv')\n",
    "state_data.columns = state_data.columns.str.lower()\n",
    "\n",
    "#Converting csv file to excel to display a different data format \n",
    "merged_data = pd.read_csv('MergedData.csv')\n",
    "merged_data.columns = merged_data.columns.str.lower()\n",
    "merged_data.to_excel (r'MergedData.xlsx', index = None, header=True)"
   ]
  },
  {
   "cell_type": "code",
   "execution_count": 84,
   "metadata": {},
   "outputs": [
    {
     "name": "stdout",
     "output_type": "stream",
     "text": [
      "      submission_date state  tot_cases  conf_cases  prob_cases  new_case  \\\n",
      "0             1/14/22    KS     621273    470516.0    150757.0     19414   \n",
      "1              1/2/22    AS         11         NaN         NaN         0   \n",
      "2              2/4/20    AR          0         NaN         NaN         0   \n",
      "3             12/6/21    MP       1104      1104.0         0.0         0   \n",
      "4              5/9/21    PW          0         NaN         NaN         0   \n",
      "...               ...   ...        ...         ...         ...       ...   \n",
      "50356         5/28/20    IA      18585         NaN         NaN       228   \n",
      "50357          6/7/20    SD       5438         NaN         NaN        71   \n",
      "50358         4/30/21    SD     122660         NaN         NaN       128   \n",
      "50359          4/6/20    NM        686         NaN         NaN        62   \n",
      "50360         3/13/21    IA     342495         NaN         NaN       425   \n",
      "\n",
      "       pnew_case  tot_death  conf_death  prob_death  new_death  pnew_death  \\\n",
      "0         6964.0       7162         NaN         NaN         21         4.0   \n",
      "1            0.0          0         NaN         NaN          0         0.0   \n",
      "2            NaN          0         NaN         NaN          0         NaN   \n",
      "3            0.0          5         5.0         0.0          2         0.0   \n",
      "4            0.0          0         NaN         NaN          0         0.0   \n",
      "...          ...        ...         ...         ...        ...         ...   \n",
      "50356        0.0        506         NaN         NaN         14         0.0   \n",
      "50357        0.0         65        64.0         1.0          0         1.0   \n",
      "50358       17.0       1967      1601.0       366.0          5         1.0   \n",
      "50359        0.0         12         NaN         NaN          0         0.0   \n",
      "50360       77.0       5633         NaN         NaN          3         3.0   \n",
      "\n",
      "          created_at consent_cases consent_deaths  \n",
      "0      1/15/22 14:59         Agree            NaN  \n",
      "1       1/3/22 15:18           NaN            NaN  \n",
      "2      3/26/20 16:22     Not agree      Not agree  \n",
      "3       12/8/21 0:00         Agree          Agree  \n",
      "4      5/10/21 14:15           NaN            NaN  \n",
      "...              ...           ...            ...  \n",
      "50356  5/29/20 14:19     Not agree      Not agree  \n",
      "50357   6/8/20 14:55           NaN          Agree  \n",
      "50358   5/1/21 13:43           NaN          Agree  \n",
      "50359    4/8/20 0:00           NaN      Not agree  \n",
      "50360  3/14/21 13:53     Not agree      Not agree  \n",
      "\n",
      "[50361 rows x 15 columns]\n"
     ]
    }
   ],
   "source": [
    "print(state_data)"
   ]
  },
  {
   "cell_type": "markdown",
   "metadata": {},
   "source": [
    "## Data Transformations on state_data   "
   ]
  },
  {
   "cell_type": "code",
   "execution_count": 85,
   "metadata": {},
   "outputs": [],
   "source": [
    "#1st data transformation to fill in empty cells with 0 using a function  \n",
    "def replacezero(columnname): \n",
    "    state_data[columnname].fillna(0, inplace = True)"
   ]
  },
  {
   "cell_type": "code",
   "execution_count": 86,
   "metadata": {},
   "outputs": [],
   "source": [
    "#Applying functions to specific state_data columns\n",
    "replacezero(\"tot_cases\")\n",
    "replacezero(\"conf_cases\")\n",
    "replacezero(\"prob_cases\")\n",
    "replacezero(\"new_case\")\n",
    "replacezero(\"pnew_case\")\n",
    "replacezero(\"tot_death\")\n",
    "replacezero(\"conf_death\")\n",
    "replacezero(\"prob_death\")\n",
    "replacezero(\"new_death\")\n",
    "replacezero(\"pnew_death\")\n"
   ]
  },
  {
   "cell_type": "code",
   "execution_count": 87,
   "metadata": {},
   "outputs": [
    {
     "name": "stdout",
     "output_type": "stream",
     "text": [
      "      submission_date state  tot_cases  conf_cases  prob_cases  new_case  \\\n",
      "2              2/4/20    AR          0         0.0         0.0         0   \n",
      "3             12/6/21    MP       1104      1104.0         0.0         0   \n",
      "5              1/1/22    UT     636992    636992.0         0.0         0   \n",
      "6             5/22/21    MA     704796    659246.0     45550.0       451   \n",
      "7             8/24/21    CO     606157    560894.0     45263.0      1340   \n",
      "...               ...   ...        ...         ...         ...       ...   \n",
      "50353         1/31/22    PA    2661481   2207926.0    453555.0      4894   \n",
      "50354         3/14/22    NY    2645385         0.0         0.0       521   \n",
      "50355         7/14/21    NY    1160539         0.0         0.0       336   \n",
      "50356         5/28/20    IA      18585         0.0         0.0       228   \n",
      "50360         3/13/21    IA     342495         0.0         0.0       425   \n",
      "\n",
      "       pnew_case  tot_death  conf_death  prob_death  new_death  pnew_death  \\\n",
      "2            0.0          0         0.0         0.0          0         0.0   \n",
      "3            0.0          5         5.0         0.0          2         0.0   \n",
      "5            0.0       3787      3635.0       152.0          0         0.0   \n",
      "6           46.0      17818     17458.0       360.0          5         0.0   \n",
      "7          264.0       7084      6278.0       806.0          6         0.0   \n",
      "...          ...        ...         ...         ...        ...         ...   \n",
      "50353      445.0      40581         0.0         0.0         18       104.0   \n",
      "50354        0.0      27132         0.0         0.0          6         0.0   \n",
      "50355        0.0      19954         0.0         0.0          2         0.0   \n",
      "50356        0.0        506         0.0         0.0         14         0.0   \n",
      "50360       77.0       5633         0.0         0.0          3         3.0   \n",
      "\n",
      "          created_at consent_cases consent_deaths  \n",
      "2      3/26/20 16:22     Not agree      Not agree  \n",
      "3       12/8/21 0:00         Agree          Agree  \n",
      "5       1/3/22 13:55         Agree          Agree  \n",
      "6      5/23/21 13:37         Agree          Agree  \n",
      "7       8/24/21 0:00         Agree          Agree  \n",
      "...              ...           ...            ...  \n",
      "50353   2/1/22 14:22         Agree      Not agree  \n",
      "50354  3/15/22 13:23     Not agree      Not agree  \n",
      "50355  7/15/21 14:29     Not agree      Not agree  \n",
      "50356  5/29/20 14:19     Not agree      Not agree  \n",
      "50360  3/14/21 13:53     Not agree      Not agree  \n",
      "\n",
      "[39454 rows x 15 columns]\n"
     ]
    },
    {
     "data": {
      "text/plain": [
       "37412"
      ]
     },
     "execution_count": 87,
     "metadata": {},
     "output_type": "execute_result"
    }
   ],
   "source": [
    "\n",
    "#Data Tansformation to remove rows with empty cells in columns consent_cases and consent_deaths\n",
    "\n",
    "state_data.dropna(subset = ['consent_cases'], inplace = True)     # Remove rows with NaN\n",
    "state_data.dropna(subset = ['consent_deaths'], inplace = True)\n",
    "print(state_data) \n",
    "\n",
    "#Data Transformation to change submission_date to date&column type \n",
    "state_data['submission_date']= pd.to_datetime(state_data['submission_date'])\n",
    "\n",
    "#Data Transformation to change created_at column \n",
    "state_data['created_at']= pd.to_datetime(state_data['created_at'])\n",
    "\n",
    "#Now filtering dataset to only include dates from 3/1/20 to 5/6/2022 as other data file has only those dates \n",
    "\n",
    "filtered_statedata = state_data.loc[(state_data['submission_date'] >= '3/1/20')\n",
    "                     & (state_data['submission_date'] < '5/6/22')]\n",
    "\n",
    "len(filtered_statedata)\n"
   ]
  },
  {
   "cell_type": "markdown",
   "metadata": {},
   "source": [
    "## Data Transformations on 2nd file being merged with filtered_statedata\n"
   ]
  },
  {
   "cell_type": "code",
   "execution_count": 88,
   "metadata": {},
   "outputs": [
    {
     "name": "stdout",
     "output_type": "stream",
     "text": [
      "         date  cases - total  deaths - total  hospitalizations - total  \\\n",
      "0     3/11/22            128               2                      15.0   \n",
      "1     1/17/22           2010              31                     135.0   \n",
      "2     11/1/20            733               6                      74.0   \n",
      "3    11/23/20           2374              19                     125.0   \n",
      "4     6/12/21             46               5                       8.0   \n",
      "..        ...            ...             ...                       ...   \n",
      "793   8/28/20            382               4                      25.0   \n",
      "794   6/24/20            245               9                      25.0   \n",
      "795   10/2/20            415               4                      27.0   \n",
      "796   5/11/20           1017              38                     128.0   \n",
      "797   5/30/21             52               7                      11.0   \n",
      "\n",
      "     cases - age 0-17  cases - age 18-29  cases - age 30-39  \\\n",
      "0                  27                 24                 26   \n",
      "1                 391                362                349   \n",
      "2                  77                184                151   \n",
      "3                 274                542                492   \n",
      "4                   5                 13                 13   \n",
      "..                ...                ...                ...   \n",
      "793                66                109                 61   \n",
      "794                22                 77                 56   \n",
      "795                46                107                 98   \n",
      "796                62                206                197   \n",
      "797                 7                 15                 11   \n",
      "\n",
      "     cases - age 40-49  cases - age 50-59  cases - age 60-69  ...  \\\n",
      "0                   14                 15                 13  ...   \n",
      "1                  292                249                202  ...   \n",
      "2                  114                 96                 53  ...   \n",
      "3                  360                351                201  ...   \n",
      "4                    3                  7                  1  ...   \n",
      "..                 ...                ...                ...  ...   \n",
      "793                 50                 47                 29  ...   \n",
      "794                 28                 34                 11  ...   \n",
      "795                 60                 40                 23  ...   \n",
      "796                192                142                118  ...   \n",
      "797                  6                  6                  7  ...   \n",
      "\n",
      "     hospitalizations - age unknown  hospitalizations - female  \\\n",
      "0                               0.0                        5.0   \n",
      "1                               0.0                       65.0   \n",
      "2                               0.0                       34.0   \n",
      "3                               0.0                       64.0   \n",
      "4                               0.0                        3.0   \n",
      "..                              ...                        ...   \n",
      "793                             0.0                       13.0   \n",
      "794                             0.0                       18.0   \n",
      "795                             0.0                       14.0   \n",
      "796                             0.0                       51.0   \n",
      "797                             0.0                        7.0   \n",
      "\n",
      "     hospitalizations - male  hospitalizations - unknown gender  \\\n",
      "0                       10.0                                0.0   \n",
      "1                       70.0                                0.0   \n",
      "2                       40.0                                0.0   \n",
      "3                       61.0                                0.0   \n",
      "4                        5.0                                0.0   \n",
      "..                       ...                                ...   \n",
      "793                     12.0                                0.0   \n",
      "794                      7.0                                0.0   \n",
      "795                     12.0                                1.0   \n",
      "796                     77.0                                0.0   \n",
      "797                      4.0                                0.0   \n",
      "\n",
      "     hospitalizations - latinx  hospitalizations - asian non-latinx  \\\n",
      "0                          2.0                                  1.0   \n",
      "1                         37.0                                  4.0   \n",
      "2                         27.0                                  2.0   \n",
      "3                         39.0                                  5.0   \n",
      "4                          4.0                                  0.0   \n",
      "..                         ...                                  ...   \n",
      "793                        9.0                                  0.0   \n",
      "794                        6.0                                  0.0   \n",
      "795                        8.0                                  3.0   \n",
      "796                       52.0                                  3.0   \n",
      "797                        2.0                                  0.0   \n",
      "\n",
      "     hospitalizations - black non-latinx  hospitalizations - white non-latinx  \\\n",
      "0                                    8.0                                  4.0   \n",
      "1                                   51.0                                 38.0   \n",
      "2                                   26.0                                 16.0   \n",
      "3                                   55.0                                 20.0   \n",
      "4                                    4.0                                  0.0   \n",
      "..                                   ...                                  ...   \n",
      "793                                 11.0                                  3.0   \n",
      "794                                 15.0                                  4.0   \n",
      "795                                  8.0                                  7.0   \n",
      "796                                 43.0                                 22.0   \n",
      "797                                  7.0                                  2.0   \n",
      "\n",
      "     hospitalizations - other race non-latinx  \\\n",
      "0                                         0.0   \n",
      "1                                         1.0   \n",
      "2                                         3.0   \n",
      "3                                         3.0   \n",
      "4                                         0.0   \n",
      "..                                        ...   \n",
      "793                                       2.0   \n",
      "794                                       0.0   \n",
      "795                                       1.0   \n",
      "796                                       7.0   \n",
      "797                                       0.0   \n",
      "\n",
      "     hospitalizations - unknown race/ethnicity  \n",
      "0                                          0.0  \n",
      "1                                          4.0  \n",
      "2                                          0.0  \n",
      "3                                          3.0  \n",
      "4                                          0.0  \n",
      "..                                         ...  \n",
      "793                                        0.0  \n",
      "794                                        0.0  \n",
      "795                                        0.0  \n",
      "796                                        1.0  \n",
      "797                                        0.0  \n",
      "\n",
      "[798 rows x 58 columns]\n"
     ]
    }
   ],
   "source": [
    "print(merged_data)"
   ]
  },
  {
   "cell_type": "code",
   "execution_count": 89,
   "metadata": {},
   "outputs": [],
   "source": [
    "#Converting Date column to DateTime format\n",
    "merged_data['date']= pd.to_datetime(merged_data['date'])\n",
    "\n"
   ]
  },
  {
   "cell_type": "markdown",
   "metadata": {},
   "source": [
    "## Now I will be selecting the columns from both datasets required for my data analysis"
   ]
  },
  {
   "cell_type": "markdown",
   "metadata": {},
   "source": [
    "First I will select the columns from the state_data"
   ]
  },
  {
   "cell_type": "code",
   "execution_count": 90,
   "metadata": {},
   "outputs": [],
   "source": [
    "#Selecting specific columns to join from state_data \n",
    "final_statedata = filtered_statedata[[\"submission_date\", \"tot_cases\", \"tot_death\"]]\n"
   ]
  },
  {
   "cell_type": "markdown",
   "metadata": {},
   "source": [
    "Then I will select the columns from the merged_data"
   ]
  },
  {
   "cell_type": "code",
   "execution_count": 91,
   "metadata": {},
   "outputs": [],
   "source": [
    "#Selecting specific columns to join from the merged_data\n",
    "Final_mergeddata = merged_data[[\"date\", \"cases - female\", \"cases - male\", \"hospitalizations - latinx\", \"hospitalizations - asian non-latinx\", \"hospitalizations - black non-latinx\", \"hospitalizations - white non-latinx\", \"hospitalizations - other race non-latinx\", \"hospitalizations - unknown race/ethnicity\"]]"
   ]
  },
  {
   "cell_type": "code",
   "execution_count": 92,
   "metadata": {},
   "outputs": [
    {
     "name": "stdout",
     "output_type": "stream",
     "text": [
      "          date  cases - female  cases - male  hospitalizations - latinx  \\\n",
      "0   2022-03-11              57            70                        2.0   \n",
      "1   2022-01-17            1065           933                       37.0   \n",
      "2   2020-11-01             393           340                       27.0   \n",
      "3   2020-11-23            1258          1112                       39.0   \n",
      "4   2021-06-12              18            28                        4.0   \n",
      "..         ...             ...           ...                        ...   \n",
      "793 2020-08-28             184           198                        9.0   \n",
      "794 2020-06-24             143           101                        6.0   \n",
      "795 2020-10-02             206           208                        8.0   \n",
      "796 2020-05-11             519           494                       52.0   \n",
      "797 2021-05-30              23            29                        2.0   \n",
      "\n",
      "     hospitalizations - asian non-latinx  hospitalizations - black non-latinx  \\\n",
      "0                                    1.0                                  8.0   \n",
      "1                                    4.0                                 51.0   \n",
      "2                                    2.0                                 26.0   \n",
      "3                                    5.0                                 55.0   \n",
      "4                                    0.0                                  4.0   \n",
      "..                                   ...                                  ...   \n",
      "793                                  0.0                                 11.0   \n",
      "794                                  0.0                                 15.0   \n",
      "795                                  3.0                                  8.0   \n",
      "796                                  3.0                                 43.0   \n",
      "797                                  0.0                                  7.0   \n",
      "\n",
      "     hospitalizations - white non-latinx  \\\n",
      "0                                    4.0   \n",
      "1                                   38.0   \n",
      "2                                   16.0   \n",
      "3                                   20.0   \n",
      "4                                    0.0   \n",
      "..                                   ...   \n",
      "793                                  3.0   \n",
      "794                                  4.0   \n",
      "795                                  7.0   \n",
      "796                                 22.0   \n",
      "797                                  2.0   \n",
      "\n",
      "     hospitalizations - other race non-latinx  \\\n",
      "0                                         0.0   \n",
      "1                                         1.0   \n",
      "2                                         3.0   \n",
      "3                                         3.0   \n",
      "4                                         0.0   \n",
      "..                                        ...   \n",
      "793                                       2.0   \n",
      "794                                       0.0   \n",
      "795                                       1.0   \n",
      "796                                       7.0   \n",
      "797                                       0.0   \n",
      "\n",
      "     hospitalizations - unknown race/ethnicity  \n",
      "0                                          0.0  \n",
      "1                                          4.0  \n",
      "2                                          0.0  \n",
      "3                                          3.0  \n",
      "4                                          0.0  \n",
      "..                                         ...  \n",
      "793                                        0.0  \n",
      "794                                        0.0  \n",
      "795                                        0.0  \n",
      "796                                        1.0  \n",
      "797                                        0.0  \n",
      "\n",
      "[798 rows x 9 columns]\n"
     ]
    }
   ],
   "source": [
    "print(Final_mergeddata)"
   ]
  },
  {
   "cell_type": "markdown",
   "metadata": {},
   "source": [
    "## Merging both datasets to create a final dataset"
   ]
  },
  {
   "cell_type": "code",
   "execution_count": 93,
   "metadata": {},
   "outputs": [],
   "source": [
    "#Now merging both datasets to create a final dataset basing off of date & submission_date \n",
    "covid_data = pd.merge(final_statedata, Final_mergeddata, left_on = 'submission_date', right_on = 'date', how = 'inner')"
   ]
  },
  {
   "cell_type": "code",
   "execution_count": 94,
   "metadata": {},
   "outputs": [
    {
     "name": "stdout",
     "output_type": "stream",
     "text": [
      "      submission_date  tot_cases  tot_death       date  cases - female  \\\n",
      "0          2021-12-06       1104          5 2021-12-06             657   \n",
      "1          2021-12-06    4346792      72989 2021-12-06             657   \n",
      "2          2021-12-06     605409       3595 2021-12-06             657   \n",
      "3          2021-12-06     947463      19516 2021-12-06             657   \n",
      "4          2021-12-06     850957       9380 2021-12-06             657   \n",
      "...               ...        ...        ...        ...             ...   \n",
      "37407      2020-06-24     111509       3477 2020-06-24             143   \n",
      "37408      2020-06-24      36484        542 2020-06-24             143   \n",
      "37409      2020-06-24      26705        692 2020-06-24             143   \n",
      "37410      2020-06-24      87574       6557 2020-06-24             143   \n",
      "37411      2020-06-24          0          0 2020-06-24             143   \n",
      "\n",
      "       cases - male  hospitalizations - latinx  \\\n",
      "0               551                       14.0   \n",
      "1               551                       14.0   \n",
      "2               551                       14.0   \n",
      "3               551                       14.0   \n",
      "4               551                       14.0   \n",
      "...             ...                        ...   \n",
      "37407           101                        6.0   \n",
      "37408           101                        6.0   \n",
      "37409           101                        6.0   \n",
      "37410           101                        6.0   \n",
      "37411           101                        6.0   \n",
      "\n",
      "       hospitalizations - asian non-latinx  \\\n",
      "0                                      3.0   \n",
      "1                                      3.0   \n",
      "2                                      3.0   \n",
      "3                                      3.0   \n",
      "4                                      3.0   \n",
      "...                                    ...   \n",
      "37407                                  0.0   \n",
      "37408                                  0.0   \n",
      "37409                                  0.0   \n",
      "37410                                  0.0   \n",
      "37411                                  0.0   \n",
      "\n",
      "       hospitalizations - black non-latinx  \\\n",
      "0                                     38.0   \n",
      "1                                     38.0   \n",
      "2                                     38.0   \n",
      "3                                     38.0   \n",
      "4                                     38.0   \n",
      "...                                    ...   \n",
      "37407                                 15.0   \n",
      "37408                                 15.0   \n",
      "37409                                 15.0   \n",
      "37410                                 15.0   \n",
      "37411                                 15.0   \n",
      "\n",
      "       hospitalizations - white non-latinx  \\\n",
      "0                                     21.0   \n",
      "1                                     21.0   \n",
      "2                                     21.0   \n",
      "3                                     21.0   \n",
      "4                                     21.0   \n",
      "...                                    ...   \n",
      "37407                                  4.0   \n",
      "37408                                  4.0   \n",
      "37409                                  4.0   \n",
      "37410                                  4.0   \n",
      "37411                                  4.0   \n",
      "\n",
      "       hospitalizations - other race non-latinx  \\\n",
      "0                                           0.0   \n",
      "1                                           0.0   \n",
      "2                                           0.0   \n",
      "3                                           0.0   \n",
      "4                                           0.0   \n",
      "...                                         ...   \n",
      "37407                                       0.0   \n",
      "37408                                       0.0   \n",
      "37409                                       0.0   \n",
      "37410                                       0.0   \n",
      "37411                                       0.0   \n",
      "\n",
      "       hospitalizations - unknown race/ethnicity  \n",
      "0                                            2.0  \n",
      "1                                            2.0  \n",
      "2                                            2.0  \n",
      "3                                            2.0  \n",
      "4                                            2.0  \n",
      "...                                          ...  \n",
      "37407                                        0.0  \n",
      "37408                                        0.0  \n",
      "37409                                        0.0  \n",
      "37410                                        0.0  \n",
      "37411                                        0.0  \n",
      "\n",
      "[37412 rows x 12 columns]\n"
     ]
    }
   ],
   "source": [
    "print(covid_data)"
   ]
  },
  {
   "cell_type": "markdown",
   "metadata": {},
   "source": [
    "## Data Aggregation"
   ]
  },
  {
   "cell_type": "code",
   "execution_count": 95,
   "metadata": {},
   "outputs": [
    {
     "data": {
      "text/plain": [
       "submission_date\n",
       "2020     44740858\n",
       "2021    209128154\n",
       "2022    108294017\n",
       "Name: tot_death, dtype: int64"
      ]
     },
     "execution_count": 95,
     "metadata": {},
     "output_type": "execute_result"
    }
   ],
   "source": [
    "#Examining total deaths by year\n",
    "covid_data.groupby(covid_data.submission_date.dt.year)['tot_death'].sum()\n"
   ]
  },
  {
   "cell_type": "markdown",
   "metadata": {},
   "source": [
    "Looking at the data, I can see that the maximum number of deaths in a year was 2021. This is due to the dataset including the whole year of 2021, while 2020 and 2022 only included portions of the data. "
   ]
  },
  {
   "cell_type": "code",
   "execution_count": 96,
   "metadata": {},
   "outputs": [
    {
     "name": "stderr",
     "output_type": "stream",
     "text": [
      "/opt/tljh/user/lib/python3.6/site-packages/ipykernel_launcher.py:2: FutureWarning: Indexing with multiple keys (implicitly converted to a tuple of keys) will be deprecated, use a list instead.\n",
      "  \n"
     ]
    },
    {
     "data": {
      "text/html": [
       "<div>\n",
       "<style scoped>\n",
       "    .dataframe tbody tr th:only-of-type {\n",
       "        vertical-align: middle;\n",
       "    }\n",
       "\n",
       "    .dataframe tbody tr th {\n",
       "        vertical-align: top;\n",
       "    }\n",
       "\n",
       "    .dataframe thead th {\n",
       "        text-align: right;\n",
       "    }\n",
       "</style>\n",
       "<table border=\"1\" class=\"dataframe\">\n",
       "  <thead>\n",
       "    <tr style=\"text-align: right;\">\n",
       "      <th></th>\n",
       "      <th></th>\n",
       "      <th>tot_cases</th>\n",
       "      <th>tot_death</th>\n",
       "    </tr>\n",
       "    <tr>\n",
       "      <th>submission_date</th>\n",
       "      <th>submission_date</th>\n",
       "      <th></th>\n",
       "      <th></th>\n",
       "    </tr>\n",
       "  </thead>\n",
       "  <tbody>\n",
       "    <tr>\n",
       "      <th rowspan=\"10\" valign=\"top\">2020</th>\n",
       "      <th>3</th>\n",
       "      <td>1316738</td>\n",
       "      <td>21752</td>\n",
       "    </tr>\n",
       "    <tr>\n",
       "      <th>4</th>\n",
       "      <td>19023755</td>\n",
       "      <td>994181</td>\n",
       "    </tr>\n",
       "    <tr>\n",
       "      <th>5</th>\n",
       "      <td>42602652</td>\n",
       "      <td>2606153</td>\n",
       "    </tr>\n",
       "    <tr>\n",
       "      <th>6</th>\n",
       "      <td>60715430</td>\n",
       "      <td>3318032</td>\n",
       "    </tr>\n",
       "    <tr>\n",
       "      <th>7</th>\n",
       "      <td>105118759</td>\n",
       "      <td>4151299</td>\n",
       "    </tr>\n",
       "    <tr>\n",
       "      <th>8</th>\n",
       "      <td>156162606</td>\n",
       "      <td>5123620</td>\n",
       "    </tr>\n",
       "    <tr>\n",
       "      <th>9</th>\n",
       "      <td>186806766</td>\n",
       "      <td>5683887</td>\n",
       "    </tr>\n",
       "    <tr>\n",
       "      <th>10</th>\n",
       "      <td>234495344</td>\n",
       "      <td>6496723</td>\n",
       "    </tr>\n",
       "    <tr>\n",
       "      <th>11</th>\n",
       "      <td>313612245</td>\n",
       "      <td>7164664</td>\n",
       "    </tr>\n",
       "    <tr>\n",
       "      <th>12</th>\n",
       "      <td>481250123</td>\n",
       "      <td>9180547</td>\n",
       "    </tr>\n",
       "    <tr>\n",
       "      <th rowspan=\"12\" valign=\"top\">2021</th>\n",
       "      <th>1</th>\n",
       "      <td>669026335</td>\n",
       "      <td>11771549</td>\n",
       "    </tr>\n",
       "    <tr>\n",
       "      <th>2</th>\n",
       "      <td>709691450</td>\n",
       "      <td>12858607</td>\n",
       "    </tr>\n",
       "    <tr>\n",
       "      <th>3</th>\n",
       "      <td>839904645</td>\n",
       "      <td>15600214</td>\n",
       "    </tr>\n",
       "    <tr>\n",
       "      <th>4</th>\n",
       "      <td>864586254</td>\n",
       "      <td>15783300</td>\n",
       "    </tr>\n",
       "    <tr>\n",
       "      <th>5</th>\n",
       "      <td>931634605</td>\n",
       "      <td>16853541</td>\n",
       "    </tr>\n",
       "    <tr>\n",
       "      <th>6</th>\n",
       "      <td>916749411</td>\n",
       "      <td>16660622</td>\n",
       "    </tr>\n",
       "    <tr>\n",
       "      <th>7</th>\n",
       "      <td>970305438</td>\n",
       "      <td>17450322</td>\n",
       "    </tr>\n",
       "    <tr>\n",
       "      <th>8</th>\n",
       "      <td>1056626813</td>\n",
       "      <td>18025140</td>\n",
       "    </tr>\n",
       "    <tr>\n",
       "      <th>9</th>\n",
       "      <td>1148690289</td>\n",
       "      <td>18797941</td>\n",
       "    </tr>\n",
       "    <tr>\n",
       "      <th>10</th>\n",
       "      <td>1276613645</td>\n",
       "      <td>20943630</td>\n",
       "    </tr>\n",
       "    <tr>\n",
       "      <th>11</th>\n",
       "      <td>1299112106</td>\n",
       "      <td>21319582</td>\n",
       "    </tr>\n",
       "    <tr>\n",
       "      <th>12</th>\n",
       "      <td>1443910700</td>\n",
       "      <td>23063706</td>\n",
       "    </tr>\n",
       "    <tr>\n",
       "      <th rowspan=\"5\" valign=\"top\">2022</th>\n",
       "      <th>1</th>\n",
       "      <td>1875768948</td>\n",
       "      <td>24540601</td>\n",
       "    </tr>\n",
       "    <tr>\n",
       "      <th>2</th>\n",
       "      <td>1990850238</td>\n",
       "      <td>24012262</td>\n",
       "    </tr>\n",
       "    <tr>\n",
       "      <th>3</th>\n",
       "      <td>2253508412</td>\n",
       "      <td>27797322</td>\n",
       "    </tr>\n",
       "    <tr>\n",
       "      <th>4</th>\n",
       "      <td>2207282730</td>\n",
       "      <td>27356546</td>\n",
       "    </tr>\n",
       "    <tr>\n",
       "      <th>5</th>\n",
       "      <td>371897869</td>\n",
       "      <td>4587286</td>\n",
       "    </tr>\n",
       "  </tbody>\n",
       "</table>\n",
       "</div>"
      ],
      "text/plain": [
       "                                  tot_cases  tot_death\n",
       "submission_date submission_date                       \n",
       "2020            3                   1316738      21752\n",
       "                4                  19023755     994181\n",
       "                5                  42602652    2606153\n",
       "                6                  60715430    3318032\n",
       "                7                 105118759    4151299\n",
       "                8                 156162606    5123620\n",
       "                9                 186806766    5683887\n",
       "                10                234495344    6496723\n",
       "                11                313612245    7164664\n",
       "                12                481250123    9180547\n",
       "2021            1                 669026335   11771549\n",
       "                2                 709691450   12858607\n",
       "                3                 839904645   15600214\n",
       "                4                 864586254   15783300\n",
       "                5                 931634605   16853541\n",
       "                6                 916749411   16660622\n",
       "                7                 970305438   17450322\n",
       "                8                1056626813   18025140\n",
       "                9                1148690289   18797941\n",
       "                10               1276613645   20943630\n",
       "                11               1299112106   21319582\n",
       "                12               1443910700   23063706\n",
       "2022            1                1875768948   24540601\n",
       "                2                1990850238   24012262\n",
       "                3                2253508412   27797322\n",
       "                4                2207282730   27356546\n",
       "                5                 371897869    4587286"
      ]
     },
     "execution_count": 96,
     "metadata": {},
     "output_type": "execute_result"
    }
   ],
   "source": [
    "#Grouping total cases and total deaths by year and month by using groupby() function\n",
    "covid_data.groupby([covid_data.submission_date.dt.year,covid_data.submission_date.dt.month])['tot_cases','tot_death'].sum()\n"
   ]
  },
  {
   "cell_type": "markdown",
   "metadata": {},
   "source": [
    "From the data, the first thing I notice is the growth by month. The end of 2020 and beginning of 2021 had the fastest growth as this may be due to more people staying indoors and gathering for the holidays. Additionally, There was a decrease in cases in the middle of 2021 during the months of April to June. This may be due to the increase of vaccinations in the country. The data shows also an increase in cases near the end of 2021 and beginning of 2022 as the Omicron variant was highly contagious. "
   ]
  },
  {
   "cell_type": "code",
   "execution_count": 97,
   "metadata": {},
   "outputs": [
    {
     "name": "stdout",
     "output_type": "stream",
     "text": [
      "cases - male      12928525\n",
      "cases - female    14528593\n",
      "dtype: int64\n"
     ]
    }
   ],
   "source": [
    "#Aggregating data to see difference of total cases between males and females \n",
    "gender_cases = covid_data[['cases - male','cases - female']].aggregate('sum')\n",
    "print(gender_cases)"
   ]
  },
  {
   "cell_type": "markdown",
   "metadata": {},
   "source": [
    "Looking at the total number of cases by gender, I can see that females had a greater total number of cases from the date range of 03/01/2020 to 05/06/2022"
   ]
  },
  {
   "cell_type": "markdown",
   "metadata": {},
   "source": [
    "## Data Visualizations "
   ]
  },
  {
   "cell_type": "code",
   "execution_count": 98,
   "metadata": {},
   "outputs": [],
   "source": [
    "#Importing package for plotting visualizations \n",
    "import matplotlib.pyplot as plt"
   ]
  },
  {
   "cell_type": "markdown",
   "metadata": {},
   "source": [
    "## Total Cases by Month & Year"
   ]
  },
  {
   "cell_type": "code",
   "execution_count": 99,
   "metadata": {},
   "outputs": [
    {
     "data": {
      "text/plain": [
       "<matplotlib.axes._subplots.AxesSubplot at 0x7fe30bc0fe80>"
      ]
     },
     "execution_count": 99,
     "metadata": {},
     "output_type": "execute_result"
    },
    {
     "data": {
      "image/png": "[encoded data removed]",
      "text/plain": [
       "<Figure size 864x720 with 1 Axes>"
      ]
     },
     "metadata": {},
     "output_type": "display_data"
    }
   ],
   "source": [
    "#Creating variable to associate grouping of total cases by month and year\n",
    "covid_data_groups = covid_data.groupby([covid_data.submission_date.dt.year,covid_data.submission_date.dt.month])['tot_cases'].sum()\n",
    "\n",
    "#create bar plot by group\n",
    "covid_data_groups.plot(kind='bar', title='Total Cases',\n",
    "               ylabel='Density', xlabel='Month & Year', figsize=(12, 10))\n",
    "    \n"
   ]
  },
  {
   "cell_type": "markdown",
   "metadata": {},
   "source": [
    "Looking at the visualization, I can see that there was a high rise in cases between the end of 2021 and beginning of 2022. This high rise in cases can be explained by the Omicron variant as it was highly contagious. The huge decrease in cases in May is explained by the data only containing 6 days of May. "
   ]
  },
  {
   "cell_type": "markdown",
   "metadata": {},
   "source": [
    "## Total Deaths by Month & Year"
   ]
  },
  {
   "cell_type": "code",
   "execution_count": 100,
   "metadata": {},
   "outputs": [
    {
     "data": {
      "text/plain": [
       "<matplotlib.axes._subplots.AxesSubplot at 0x7fe30b106390>"
      ]
     },
     "execution_count": 100,
     "metadata": {},
     "output_type": "execute_result"
    },
    {
     "data": {
      "image/png": "[encoded data removed]",
      "text/plain": [
       "<Figure size 864x720 with 1 Axes>"
      ]
     },
     "metadata": {},
     "output_type": "display_data"
    }
   ],
   "source": [
    "#Creating variable to associate grouping of total deaths by month and year\n",
    "covid_data_deaths = covid_data.groupby([covid_data.submission_date.dt.year,covid_data.submission_date.dt.month])['tot_death'].sum()\n",
    "\n",
    "#create bar plot by group\n",
    "covid_data_deaths.plot(kind='bar', title='Total Deaths',\n",
    "               ylabel='Density', xlabel='Month & Year', figsize=(12, 10))"
   ]
  },
  {
   "cell_type": "markdown",
   "metadata": {},
   "source": [
    "While the deaths seem to increase through out the data, the small decreases in deaths can be associated with the vaccine and also some variants being contagious but not deadly. "
   ]
  },
  {
   "cell_type": "markdown",
   "metadata": {},
   "source": [
    "## Pie Graph of total cases by gender"
   ]
  },
  {
   "cell_type": "code",
   "execution_count": 101,
   "metadata": {},
   "outputs": [
    {
     "data": {
      "text/plain": [
       "<matplotlib.axes._subplots.AxesSubplot at 0x7fe30bc9f908>"
      ]
     },
     "execution_count": 101,
     "metadata": {},
     "output_type": "execute_result"
    },
    {
     "data": {
      "image/png": "[encoded data removed]",
      "text/plain": [
       "<Figure size 432x288 with 1 Axes>"
      ]
     },
     "metadata": {},
     "output_type": "display_data"
    }
   ],
   "source": [
    "#Plotting Pie Graph of total cases by male and female\n",
    "covid_data[['cases - male','cases - female']].aggregate('sum').plot(\n",
    "    kind='pie', y='Number of total cases by gender', autopct='%1.0f%%')"
   ]
  },
  {
   "cell_type": "markdown",
   "metadata": {},
   "source": [
    "Looking at the data, more females had cases than males."
   ]
  },
  {
   "cell_type": "markdown",
   "metadata": {},
   "source": [
    "## Total Hospitalizations by Race in every Month & Year"
   ]
  },
  {
   "cell_type": "code",
   "execution_count": 57,
   "metadata": {},
   "outputs": [
    {
     "name": "stderr",
     "output_type": "stream",
     "text": [
      "/opt/tljh/user/lib/python3.6/site-packages/ipykernel_launcher.py:1: FutureWarning: Indexing with multiple keys (implicitly converted to a tuple of keys) will be deprecated, use a list instead.\n",
      "  \"\"\"Entry point for launching an IPython kernel.\n"
     ]
    },
    {
     "data": {
      "text/plain": [
       "<matplotlib.axes._subplots.AxesSubplot at 0x7fe30ced2198>"
      ]
     },
     "execution_count": 57,
     "metadata": {},
     "output_type": "execute_result"
    },
    {
     "data": {
      "image/png": "[encoded data removed]",
      "text/plain": [
       "<Figure size 1080x720 with 1 Axes>"
      ]
     },
     "metadata": {},
     "output_type": "display_data"
    }
   ],
   "source": [
    "#Plotting bar graph by grouping by month & Year\n",
    "covid_hospitalizations = covid_data.groupby(covid_data.submission_date.dt.year)['hospitalizations - latinx','hospitalizations - asian non-latinx', 'hospitalizations - black non-latinx',  'hospitalizations - white non-latinx', 'hospitalizations - other race non-latinx', 'hospitalizations - unknown race/ethnicity'].sum()\n",
    "covid_hospitalizations.plot(kind='bar', title='Total Hospitalizations by race',\n",
    "               ylabel='Density', xlabel='Hospitalizations by Race', figsize=(15, 10))\n"
   ]
  },
  {
   "cell_type": "markdown",
   "metadata": {},
   "source": [
    "Looking at the visualization, it is shown that black non-latinx had the most hospitalizations throughout 2020-2022. This can be explained by them not receiving the proper care they need because of socioeconomic differences. Latinx individuals also had a high number of hospitalizations possibly due to not having the resources to take care of themselves at home. "
   ]
  },
  {
   "cell_type": "markdown",
   "metadata": {},
   "source": [
    "## Conclusion"
   ]
  },
  {
   "cell_type": "markdown",
   "metadata": {},
   "source": [
    "Overall, Covid data analysis is very important to analyze in order to recognize information and draw conclusions to help control the spread of the virus. Additionally, with further analysis into race, gender, socioeconomic status, etc. it can help draw out where healthcare disparities are the worst. The Covid pandemic had shaken the world by its core, and has affected many lives. However, it has also brought up issues in the healthcare and modern world. With analysis of the data due to the pandemic, it is one step closer to try fixing the problrm. "
   ]
  },
  {
   "cell_type": "code",
   "execution_count": 82,
   "metadata": {},
   "outputs": [
    {
     "ename": "KeyboardInterrupt",
     "evalue": "",
     "output_type": "error",
     "traceback": [
      "\u001b[0;31m---------------------------------------------------------------------------\u001b[0m",
      "\u001b[0;31mKeyboardInterrupt\u001b[0m                         Traceback (most recent call last)",
      "\u001b[0;32m/opt/tljh/user/lib/python3.6/site-packages/ipykernel/kernelbase.py\u001b[0m in \u001b[0;36m_input_request\u001b[0;34m(self, prompt, ident, parent, password)\u001b[0m\n\u001b[1;32m    883\u001b[0m             \u001b[0;32mtry\u001b[0m\u001b[0;34m:\u001b[0m\u001b[0;34m\u001b[0m\u001b[0;34m\u001b[0m\u001b[0m\n\u001b[0;32m--> 884\u001b[0;31m                 \u001b[0mident\u001b[0m\u001b[0;34m,\u001b[0m \u001b[0mreply\u001b[0m \u001b[0;34m=\u001b[0m \u001b[0mself\u001b[0m\u001b[0;34m.\u001b[0m\u001b[0msession\u001b[0m\u001b[0;34m.\u001b[0m\u001b[0mrecv\u001b[0m\u001b[0;34m(\u001b[0m\u001b[0mself\u001b[0m\u001b[0;34m.\u001b[0m\u001b[0mstdin_socket\u001b[0m\u001b[0;34m,\u001b[0m \u001b[0;36m0\u001b[0m\u001b[0;34m)\u001b[0m\u001b[0;34m\u001b[0m\u001b[0;34m\u001b[0m\u001b[0m\n\u001b[0m\u001b[1;32m    885\u001b[0m             \u001b[0;32mexcept\u001b[0m \u001b[0mException\u001b[0m\u001b[0;34m:\u001b[0m\u001b[0;34m\u001b[0m\u001b[0;34m\u001b[0m\u001b[0m\n",
      "\u001b[0;32m/opt/tljh/user/lib/python3.6/site-packages/jupyter_client/session.py\u001b[0m in \u001b[0;36mrecv\u001b[0;34m(self, socket, mode, content, copy)\u001b[0m\n\u001b[1;32m    802\u001b[0m         \u001b[0;32mtry\u001b[0m\u001b[0;34m:\u001b[0m\u001b[0;34m\u001b[0m\u001b[0;34m\u001b[0m\u001b[0m\n\u001b[0;32m--> 803\u001b[0;31m             \u001b[0mmsg_list\u001b[0m \u001b[0;34m=\u001b[0m \u001b[0msocket\u001b[0m\u001b[0;34m.\u001b[0m\u001b[0mrecv_multipart\u001b[0m\u001b[0;34m(\u001b[0m\u001b[0mmode\u001b[0m\u001b[0;34m,\u001b[0m \u001b[0mcopy\u001b[0m\u001b[0;34m=\u001b[0m\u001b[0mcopy\u001b[0m\u001b[0;34m)\u001b[0m\u001b[0;34m\u001b[0m\u001b[0;34m\u001b[0m\u001b[0m\n\u001b[0m\u001b[1;32m    804\u001b[0m         \u001b[0;32mexcept\u001b[0m \u001b[0mzmq\u001b[0m\u001b[0;34m.\u001b[0m\u001b[0mZMQError\u001b[0m \u001b[0;32mas\u001b[0m \u001b[0me\u001b[0m\u001b[0;34m:\u001b[0m\u001b[0;34m\u001b[0m\u001b[0;34m\u001b[0m\u001b[0m\n",
      "\u001b[0;32m/opt/tljh/user/lib/python3.6/site-packages/zmq/sugar/socket.py\u001b[0m in \u001b[0;36mrecv_multipart\u001b[0;34m(self, flags, copy, track)\u001b[0m\n\u001b[1;32m    474\u001b[0m         \"\"\"\n\u001b[0;32m--> 475\u001b[0;31m         \u001b[0mparts\u001b[0m \u001b[0;34m=\u001b[0m \u001b[0;34m[\u001b[0m\u001b[0mself\u001b[0m\u001b[0;34m.\u001b[0m\u001b[0mrecv\u001b[0m\u001b[0;34m(\u001b[0m\u001b[0mflags\u001b[0m\u001b[0;34m,\u001b[0m \u001b[0mcopy\u001b[0m\u001b[0;34m=\u001b[0m\u001b[0mcopy\u001b[0m\u001b[0;34m,\u001b[0m \u001b[0mtrack\u001b[0m\u001b[0;34m=\u001b[0m\u001b[0mtrack\u001b[0m\u001b[0;34m)\u001b[0m\u001b[0;34m]\u001b[0m\u001b[0;34m\u001b[0m\u001b[0;34m\u001b[0m\u001b[0m\n\u001b[0m\u001b[1;32m    476\u001b[0m         \u001b[0;31m# have first part already, only loop while more to receive\u001b[0m\u001b[0;34m\u001b[0m\u001b[0;34m\u001b[0m\u001b[0;34m\u001b[0m\u001b[0m\n",
      "\u001b[0;32mzmq/backend/cython/socket.pyx\u001b[0m in \u001b[0;36mzmq.backend.cython.socket.Socket.recv\u001b[0;34m()\u001b[0m\n",
      "\u001b[0;32mzmq/backend/cython/socket.pyx\u001b[0m in \u001b[0;36mzmq.backend.cython.socket.Socket.recv\u001b[0;34m()\u001b[0m\n",
      "\u001b[0;32mzmq/backend/cython/socket.pyx\u001b[0m in \u001b[0;36mzmq.backend.cython.socket._recv_copy\u001b[0;34m()\u001b[0m\n",
      "\u001b[0;32m/opt/tljh/user/lib/python3.6/site-packages/zmq/backend/cython/checkrc.pxd\u001b[0m in \u001b[0;36mzmq.backend.cython.checkrc._check_rc\u001b[0;34m()\u001b[0m\n",
      "\u001b[0;31mKeyboardInterrupt\u001b[0m: ",
      "\nDuring handling of the above exception, another exception occurred:\n",
      "\u001b[0;31mKeyboardInterrupt\u001b[0m                         Traceback (most recent call last)",
      "\u001b[0;32m<ipython-input-82-014dbbb68e56>\u001b[0m in \u001b[0;36m<module>\u001b[0;34m\u001b[0m\n\u001b[1;32m      5\u001b[0m \u001b[0;36m3.\u001b[0m \u001b[0mPress\u001b[0m \u001b[0mEnter\u001b[0m\u001b[0;34m\u001b[0m\u001b[0;34m\u001b[0m\u001b[0m\n\u001b[1;32m      6\u001b[0m \u001b[0;34m\u001b[0m\u001b[0m\n\u001b[0;32m----> 7\u001b[0;31m ''')\n\u001b[0m\u001b[1;32m      8\u001b[0m \u001b[0;34m\u001b[0m\u001b[0m\n\u001b[1;32m      9\u001b[0m \u001b[0;32mif\u001b[0m \u001b[0ma\u001b[0m\u001b[0;34m==\u001b[0m\u001b[0;34m'yes'\u001b[0m\u001b[0;34m:\u001b[0m\u001b[0;34m\u001b[0m\u001b[0;34m\u001b[0m\u001b[0m\n",
      "\u001b[0;32m/opt/tljh/user/lib/python3.6/site-packages/ipykernel/kernelbase.py\u001b[0m in \u001b[0;36mraw_input\u001b[0;34m(self, prompt)\u001b[0m\n\u001b[1;32m    857\u001b[0m             \u001b[0mself\u001b[0m\u001b[0;34m.\u001b[0m\u001b[0m_parent_ident\u001b[0m\u001b[0;34m,\u001b[0m\u001b[0;34m\u001b[0m\u001b[0;34m\u001b[0m\u001b[0m\n\u001b[1;32m    858\u001b[0m             \u001b[0mself\u001b[0m\u001b[0;34m.\u001b[0m\u001b[0m_parent_header\u001b[0m\u001b[0;34m,\u001b[0m\u001b[0;34m\u001b[0m\u001b[0;34m\u001b[0m\u001b[0m\n\u001b[0;32m--> 859\u001b[0;31m             \u001b[0mpassword\u001b[0m\u001b[0;34m=\u001b[0m\u001b[0;32mFalse\u001b[0m\u001b[0;34m,\u001b[0m\u001b[0;34m\u001b[0m\u001b[0;34m\u001b[0m\u001b[0m\n\u001b[0m\u001b[1;32m    860\u001b[0m         )\n\u001b[1;32m    861\u001b[0m \u001b[0;34m\u001b[0m\u001b[0m\n",
      "\u001b[0;32m/opt/tljh/user/lib/python3.6/site-packages/ipykernel/kernelbase.py\u001b[0m in \u001b[0;36m_input_request\u001b[0;34m(self, prompt, ident, parent, password)\u001b[0m\n\u001b[1;32m    887\u001b[0m             \u001b[0;32mexcept\u001b[0m \u001b[0mKeyboardInterrupt\u001b[0m\u001b[0;34m:\u001b[0m\u001b[0;34m\u001b[0m\u001b[0;34m\u001b[0m\u001b[0m\n\u001b[1;32m    888\u001b[0m                 \u001b[0;31m# re-raise KeyboardInterrupt, to truncate traceback\u001b[0m\u001b[0;34m\u001b[0m\u001b[0;34m\u001b[0m\u001b[0;34m\u001b[0m\u001b[0m\n\u001b[0;32m--> 889\u001b[0;31m                 \u001b[0;32mraise\u001b[0m \u001b[0mKeyboardInterrupt\u001b[0m\u001b[0;34m\u001b[0m\u001b[0;34m\u001b[0m\u001b[0m\n\u001b[0m\u001b[1;32m    890\u001b[0m             \u001b[0;32melse\u001b[0m\u001b[0;34m:\u001b[0m\u001b[0;34m\u001b[0m\u001b[0;34m\u001b[0m\u001b[0m\n\u001b[1;32m    891\u001b[0m                 \u001b[0;32mbreak\u001b[0m\u001b[0;34m\u001b[0m\u001b[0;34m\u001b[0m\u001b[0m\n",
      "\u001b[0;31mKeyboardInterrupt\u001b[0m: "
     ]
    }
   ],
   "source": [
    "a=input('''\n",
    "Are you ready to submit your work?\n",
    "1. Click the Save icon (or do Ctrl-S / Cmd-S)\n",
    "2. Type \"yes\" or \"no\" below\n",
    "3. Press Enter\n",
    "\n",
    "''')\n",
    "\n",
    "if a=='yes':\n",
    "    !git pull\n",
    "    !git add AshleySahuFinal.ipynb\n",
    "    !git commit -a -m \"Submitting the Final\"\n",
    "    !git push\n",
    "else:\n",
    "    print('''\n",
    "    \n",
    "OK. We can wait.\n",
    "''')"
   ]
  },
  {
   "cell_type": "code",
   "execution_count": null,
   "metadata": {},
   "outputs": [],
   "source": []
  }
 ],
 "metadata": {
  "kernelspec": {
   "display_name": "Python 3",
   "language": "python",
   "name": "python3"
  },
  "language_info": {
   "codemirror_mode": {
    "name": "ipython",
    "version": 3
   },
   "file_extension": ".py",
   "mimetype": "text/x-python",
   "name": "python",
   "nbconvert_exporter": "python",
   "pygments_lexer": "ipython3",
   "version": "3.6.7"
  }
 },
 "nbformat": 4,
 "nbformat_minor": 4
}
